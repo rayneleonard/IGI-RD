{
 "cells": [
  {
   "cell_type": "markdown",
   "metadata": {
    "deletable": true,
    "editable": true
   },
   "source": [
    "### Read CSV "
   ]
  },
  {
   "cell_type": "code",
   "execution_count": 7,
   "metadata": {
    "collapsed": false,
    "deletable": true,
    "editable": true,
    "scrolled": true
   },
   "outputs": [],
   "source": [
    "import pandas as pd\n",
    "\n",
    "R = .10 # filter ratio \n",
    "my_file = \"MDACC_compiledrpkm_101genes.csv\"\n",
    "df = pd.read_csv(my_file)\n",
    "genes = ['UBD','CXCL13','CXCL11','IDO1','IGHM','CCL5','CXCL10','NTN3','GZMB','IGKC','LOC652493','PSMB9','GBP1','FGL2','IL23A','CD52','RARRES3','IGJ','RTP4','TNFSF10','ITM2A','TNFAIP8','GABRP','KYNU','S100A8','PTGDS','PMAIP1','FABP7','KMO','XBP1','CHI3L1','DEFB1','DUSP5','ART3','NEK2','C7','TSC22D3','CDC20','SPTLC2','MYBL1','IL33','SIDT1','LBP','GALNT7','JAM2','S100A7','PI3','GCHFR','PLEKHB1','MFAP4','TRIM68','TCF7L1','INPP4B','FOXA1','SPRR1B','FGFR4','ADRA2A','SFRP1','ABCA8','FASN','CRAT','KCNK5','ALDH3B2','MID1','CYP4F8','DHCR24','IGFBP4','HGD','LHFP','BLVRB','SPDEF','CROT','GPR87','ZCCHC24','THBS4','SEMA3C','OGN','KRT6A','COL5A2','DBI','AKAP12','HTRA1','FOXC1','CD36','MIA','S100A1','TFAP2B','KIAA1324','SERHL2','COL5A1','UGT2B28','KRT16','KRT6B','SRPX','SOX10','AZGP1','APOD','KRT17','KRT14','COL2A1','ASPN','SCRG1']\n",
    "n = int(R*len(genes))\n",
    "#df.head()"
   ]
  },
  {
   "cell_type": "markdown",
   "metadata": {
    "deletable": true,
    "editable": true
   },
   "source": [
    "### Filter by genes not contained in genes list"
   ]
  },
  {
   "cell_type": "code",
   "execution_count": 8,
   "metadata": {
    "collapsed": true,
    "deletable": true,
    "editable": true
   },
   "outputs": [],
   "source": [
    "samples = df.columns\n",
    "tdf = df[df['gene_short_name'].isin(genes)]\n",
    "#tdf.head()"
   ]
  },
  {
   "cell_type": "markdown",
   "metadata": {
    "deletable": true,
    "editable": true
   },
   "source": [
    "### Filter bad samples\n",
    "\n",
    "This creates a list of lists correlating each sample to the genes in which a value of 0 was determined"
   ]
  },
  {
   "cell_type": "code",
   "execution_count": 9,
   "metadata": {
    "collapsed": false,
    "deletable": true,
    "editable": true,
    "scrolled": true
   },
   "outputs": [],
   "source": [
    "shit_list = []\n",
    "bad_samples = []\n",
    "good_samples = df.columns[1:].tolist()\n",
    "for sample in tdf.columns[1:]:\n",
    "    tmp_list = tdf.loc[tdf[sample] == 0].gene_short_name.tolist()\n",
    "    tmp_list.append(sample)\n",
    "    if len(tmp_list) - 1 > n:\n",
    "        shit_list.append(tmp_list)\n",
    "        bad_samples.append(sample)\n",
    "        good_samples.remove(sample)\n",
    "        \n",
    "## main dataframe drop        \n",
    "gdf = df.drop(bad_samples, axis=1)\n",
    "bdf = df.drop(good_samples, axis=1)\n",
    "#bad_df.head(20)\n",
    "#gdf.to_csv('out_file.csv')\n",
    "#bdf.to_csv('out_file.csv')"
   ]
  },
  {
   "cell_type": "markdown",
   "metadata": {
    "deletable": true,
    "editable": true
   },
   "source": [
    "#### Formatting & QC export"
   ]
  },
  {
   "cell_type": "code",
   "execution_count": 11,
   "metadata": {
    "collapsed": true,
    "deletable": true,
    "editable": true
   },
   "outputs": [],
   "source": [
    "## preparing QC file\n",
    "shit_list.sort(key=len)\n",
    "shit_list.reverse()\n",
    "d = {}\n",
    "for sample in shit_list:\n",
    "    sample_name = sample[-1:][0]\n",
    "    d[sample_name] = sample[:-1]\n",
    "bad_df = pd.DataFrame.from_dict(d, orient='index').T\n",
    "\n",
    "## formatting magic that gets rid of the 'None's'\n",
    "pm = bad_df.apply(sorted,key=pd.isnull)\n",
    "bad_df = pm[~pd.isnull(pm).all(1)].fillna('')\n",
    "bad_df.head(20)\n",
    "\n",
    "bad_df.to_csv('MDACC_compiled_101zeroes.csv')"
   ]
  },
  {
   "cell_type": "code",
   "execution_count": null,
   "metadata": {
    "collapsed": true
   },
   "outputs": [],
   "source": []
  }
 ],
 "metadata": {
  "kernelspec": {
   "display_name": "Python 3",
   "language": "python",
   "name": "python3"
  },
  "language_info": {
   "codemirror_mode": {
    "name": "ipython",
    "version": 3
   },
   "file_extension": ".py",
   "mimetype": "text/x-python",
   "name": "python",
   "nbconvert_exporter": "python",
   "pygments_lexer": "ipython3",
   "version": "3.5.2"
  }
 },
 "nbformat": 4,
 "nbformat_minor": 2
}
