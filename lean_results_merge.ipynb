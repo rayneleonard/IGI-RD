{
 "cells": [
  {
   "cell_type": "code",
   "execution_count": 12,
   "metadata": {},
   "outputs": [],
   "source": [
    "import pandas as pd\n",
    "import glob\n",
    "\n",
    "# Read in csv list from directory\n",
    "results_dir = \"/home/kjb5v/Desktop/leanresults/\"\n",
    "\n",
    "csv_list = glob.glob(results_dir+'*_log.csv')\n",
    "\n",
    "# Creating DataFrame to append columns to\n",
    "final_df = pd.DataFrame()\n",
    "\n",
    "for csv in csv_list:\n",
    "    \n",
    "    df = pd.read_csv(csv)\n",
    "    col_0 = df[df.columns[0]]\n",
    "    \n",
    "    # Formatting magic, i.e. \"V515.06187.A1\" -> \"V515.06187.A1_results_centroids_(n)\"\n",
    "    file_name = csv.split(\"/\")[-1]\n",
    "    result_number = '_'.join(file_name.split('_')[0:3])\n",
    "    sample_name = '_'.join([df.columns[1], result_number])\n",
    "    df.rename(columns={df.columns[1]: sample_name}, inplace=True)\n",
    "    \n",
    "    # Concat each sample to final dataframe\n",
    "    final_df = pd.concat([final_df, df[df.columns[1]]], axis=1)\n",
    "    \n",
    "final_df = pd.concat([col_0,final_df], axis=1)\n",
    "\n",
    "# Pandas converts NAs to blanks, this reverts it back\n",
    "final_df = final_df.fillna('NA')\n",
    "\n",
    "final_df.to_csv(results_dir+'merge_results.csv')"
   ]
  }
 ],
 "metadata": {
  "kernelspec": {
   "display_name": "Python 3",
   "language": "python",
   "name": "python3"
  },
  "language_info": {
   "codemirror_mode": {
    "name": "ipython",
    "version": 3
   },
   "file_extension": ".py",
   "mimetype": "text/x-python",
   "name": "python",
   "nbconvert_exporter": "python",
   "pygments_lexer": "ipython3",
   "version": "3.5.2"
  }
 },
 "nbformat": 4,
 "nbformat_minor": 2
}
